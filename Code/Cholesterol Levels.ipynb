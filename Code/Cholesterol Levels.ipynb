{
 "cells": [
  {
   "cell_type": "code",
   "execution_count": 1,
   "id": "4ee29011",
   "metadata": {},
   "outputs": [],
   "source": [
    "import re \n",
    "import pandas as pd\n",
    "from pathlib import Path\n",
    "import numpy as np\n",
    "from scipy import stats\n",
    "import matplotlib.pyplot as plt"
   ]
  },
  {
   "cell_type": "code",
   "execution_count": 2,
   "id": "1ea72384",
   "metadata": {},
   "outputs": [
    {
     "data": {
      "text/html": [
       "<div>\n",
       "<style scoped>\n",
       "    .dataframe tbody tr th:only-of-type {\n",
       "        vertical-align: middle;\n",
       "    }\n",
       "\n",
       "    .dataframe tbody tr th {\n",
       "        vertical-align: top;\n",
       "    }\n",
       "\n",
       "    .dataframe thead th {\n",
       "        text-align: right;\n",
       "    }\n",
       "</style>\n",
       "<table border=\"1\" class=\"dataframe\">\n",
       "  <thead>\n",
       "    <tr style=\"text-align: right;\">\n",
       "      <th></th>\n",
       "      <th>Patient ID</th>\n",
       "      <th>Patient Name_x</th>\n",
       "      <th>Age_x</th>\n",
       "      <th>Gender_x</th>\n",
       "      <th>Hypertension_x</th>\n",
       "      <th>Heart Disease_x</th>\n",
       "      <th>Marital Status_x</th>\n",
       "      <th>Work Type_x</th>\n",
       "      <th>Residence Type_x</th>\n",
       "      <th>Average Glucose Level_x</th>\n",
       "      <th>...</th>\n",
       "      <th>Alcohol Intake_y</th>\n",
       "      <th>Physical Activity_y</th>\n",
       "      <th>Stroke History_y</th>\n",
       "      <th>Family History of Stroke_y</th>\n",
       "      <th>Dietary Habits_y</th>\n",
       "      <th>Stress Levels_y</th>\n",
       "      <th>Blood Pressure Levels_y</th>\n",
       "      <th>Cholesterol Levels_y</th>\n",
       "      <th>Symptoms_y</th>\n",
       "      <th>Diagnosis_y</th>\n",
       "    </tr>\n",
       "  </thead>\n",
       "  <tbody>\n",
       "    <tr>\n",
       "      <th>0</th>\n",
       "      <td>18153</td>\n",
       "      <td>Mamooty Khurana</td>\n",
       "      <td>56</td>\n",
       "      <td>Male</td>\n",
       "      <td>0</td>\n",
       "      <td>1</td>\n",
       "      <td>Married</td>\n",
       "      <td>Self-employed</td>\n",
       "      <td>Rural</td>\n",
       "      <td>130.91</td>\n",
       "      <td>...</td>\n",
       "      <td>Social Drinker</td>\n",
       "      <td>Moderate</td>\n",
       "      <td>0</td>\n",
       "      <td>Yes</td>\n",
       "      <td>Vegan</td>\n",
       "      <td>3.48</td>\n",
       "      <td>140/108</td>\n",
       "      <td>HDL: 68, LDL: 133</td>\n",
       "      <td>Difficulty Speaking, Headache</td>\n",
       "      <td>Stroke</td>\n",
       "    </tr>\n",
       "    <tr>\n",
       "      <th>1</th>\n",
       "      <td>62749</td>\n",
       "      <td>Kaira Subramaniam</td>\n",
       "      <td>80</td>\n",
       "      <td>Male</td>\n",
       "      <td>0</td>\n",
       "      <td>0</td>\n",
       "      <td>Single</td>\n",
       "      <td>Self-employed</td>\n",
       "      <td>Urban</td>\n",
       "      <td>183.73</td>\n",
       "      <td>...</td>\n",
       "      <td>Never</td>\n",
       "      <td>Low</td>\n",
       "      <td>0</td>\n",
       "      <td>No</td>\n",
       "      <td>Paleo</td>\n",
       "      <td>1.73</td>\n",
       "      <td>146/91</td>\n",
       "      <td>HDL: 63, LDL: 70</td>\n",
       "      <td>Loss of Balance, Headache, Dizziness, Confusion</td>\n",
       "      <td>Stroke</td>\n",
       "    </tr>\n",
       "    <tr>\n",
       "      <th>2</th>\n",
       "      <td>32145</td>\n",
       "      <td>Dhanush Balan</td>\n",
       "      <td>26</td>\n",
       "      <td>Male</td>\n",
       "      <td>1</td>\n",
       "      <td>1</td>\n",
       "      <td>Married</td>\n",
       "      <td>Never Worked</td>\n",
       "      <td>Rural</td>\n",
       "      <td>189.00</td>\n",
       "      <td>...</td>\n",
       "      <td>Rarely</td>\n",
       "      <td>High</td>\n",
       "      <td>0</td>\n",
       "      <td>Yes</td>\n",
       "      <td>Paleo</td>\n",
       "      <td>7.31</td>\n",
       "      <td>154/97</td>\n",
       "      <td>HDL: 59, LDL: 95</td>\n",
       "      <td>Seizures, Dizziness</td>\n",
       "      <td>Stroke</td>\n",
       "    </tr>\n",
       "    <tr>\n",
       "      <th>3</th>\n",
       "      <td>6154</td>\n",
       "      <td>Ivana Baral</td>\n",
       "      <td>73</td>\n",
       "      <td>Male</td>\n",
       "      <td>0</td>\n",
       "      <td>0</td>\n",
       "      <td>Married</td>\n",
       "      <td>Never Worked</td>\n",
       "      <td>Urban</td>\n",
       "      <td>185.29</td>\n",
       "      <td>...</td>\n",
       "      <td>Frequent Drinker</td>\n",
       "      <td>Moderate</td>\n",
       "      <td>0</td>\n",
       "      <td>No</td>\n",
       "      <td>Paleo</td>\n",
       "      <td>5.35</td>\n",
       "      <td>174/81</td>\n",
       "      <td>HDL: 70, LDL: 137</td>\n",
       "      <td>Seizures, Blurred Vision, Severe Fatigue, Head...</td>\n",
       "      <td>No Stroke</td>\n",
       "    </tr>\n",
       "    <tr>\n",
       "      <th>4</th>\n",
       "      <td>48973</td>\n",
       "      <td>Darshit Jayaraman</td>\n",
       "      <td>51</td>\n",
       "      <td>Male</td>\n",
       "      <td>1</td>\n",
       "      <td>1</td>\n",
       "      <td>Divorced</td>\n",
       "      <td>Self-employed</td>\n",
       "      <td>Urban</td>\n",
       "      <td>177.34</td>\n",
       "      <td>...</td>\n",
       "      <td>Rarely</td>\n",
       "      <td>Low</td>\n",
       "      <td>0</td>\n",
       "      <td>Yes</td>\n",
       "      <td>Pescatarian</td>\n",
       "      <td>6.84</td>\n",
       "      <td>121/95</td>\n",
       "      <td>HDL: 65, LDL: 68</td>\n",
       "      <td>Difficulty Speaking</td>\n",
       "      <td>Stroke</td>\n",
       "    </tr>\n",
       "  </tbody>\n",
       "</table>\n",
       "<p>5 rows × 43 columns</p>\n",
       "</div>"
      ],
      "text/plain": [
       "   Patient ID     Patient Name_x  Age_x Gender_x  Hypertension_x  \\\n",
       "0       18153    Mamooty Khurana     56     Male               0   \n",
       "1       62749  Kaira Subramaniam     80     Male               0   \n",
       "2       32145      Dhanush Balan     26     Male               1   \n",
       "3        6154        Ivana Baral     73     Male               0   \n",
       "4       48973  Darshit Jayaraman     51     Male               1   \n",
       "\n",
       "   Heart Disease_x Marital Status_x    Work Type_x Residence Type_x  \\\n",
       "0                1          Married  Self-employed            Rural   \n",
       "1                0           Single  Self-employed            Urban   \n",
       "2                1          Married   Never Worked            Rural   \n",
       "3                0          Married   Never Worked            Urban   \n",
       "4                1         Divorced  Self-employed            Urban   \n",
       "\n",
       "   Average Glucose Level_x  ...  Alcohol Intake_y Physical Activity_y  \\\n",
       "0                   130.91  ...    Social Drinker            Moderate   \n",
       "1                   183.73  ...             Never                 Low   \n",
       "2                   189.00  ...            Rarely                High   \n",
       "3                   185.29  ...  Frequent Drinker            Moderate   \n",
       "4                   177.34  ...            Rarely                 Low   \n",
       "\n",
       "  Stroke History_y Family History of Stroke_y  Dietary Habits_y  \\\n",
       "0                0                        Yes             Vegan   \n",
       "1                0                         No             Paleo   \n",
       "2                0                        Yes             Paleo   \n",
       "3                0                         No             Paleo   \n",
       "4                0                        Yes       Pescatarian   \n",
       "\n",
       "  Stress Levels_y Blood Pressure Levels_y  Cholesterol Levels_y  \\\n",
       "0            3.48                 140/108     HDL: 68, LDL: 133   \n",
       "1            1.73                  146/91      HDL: 63, LDL: 70   \n",
       "2            7.31                  154/97      HDL: 59, LDL: 95   \n",
       "3            5.35                  174/81     HDL: 70, LDL: 137   \n",
       "4            6.84                  121/95      HDL: 65, LDL: 68   \n",
       "\n",
       "                                          Symptoms_y Diagnosis_y  \n",
       "0                      Difficulty Speaking, Headache      Stroke  \n",
       "1    Loss of Balance, Headache, Dizziness, Confusion      Stroke  \n",
       "2                                Seizures, Dizziness      Stroke  \n",
       "3  Seizures, Blurred Vision, Severe Fatigue, Head...   No Stroke  \n",
       "4                                Difficulty Speaking      Stroke  \n",
       "\n",
       "[5 rows x 43 columns]"
      ]
     },
     "execution_count": 2,
     "metadata": {},
     "output_type": "execute_result"
    }
   ],
   "source": [
    "# Read in CSV files\n",
    "csv_path_1 = Path('Resources/healthcare-dataset-stroke-data.csv')\n",
    "Health_Care = pd.read_csv(csv_path_1)\n",
    "\n",
    "csv_path_2 = Path('Resources/Stroke Prediction.csv')\n",
    "Stroke_Prediction = pd.read_csv(csv_path_2)\n",
    "\n",
    "csv_path_3 = Path('Resources/stroke_prediction_dataset.csv')\n",
    "Stroke_Prediction_2 = pd.read_csv(csv_path_3)\n",
    "\n",
    "# Create a new DataFrame for Health_Care\n",
    "\n",
    "Health_Care_df = pd.DataFrame(Health_Care)\n",
    "Health_Care_df.head()\n",
    "\n",
    "# Combine Stroke DataSets 1 & 2 into a single DataFrame\n",
    "\n",
    "combined_stroke_data = pd.merge(Stroke_Prediction, Stroke_Prediction_2, how='outer', on='Patient ID')\n",
    "\n",
    "\n",
    "# Display the Preview of the DataFrame\n",
    "\n",
    "combined_stroke_data.head()"
   ]
  },
  {
   "cell_type": "code",
   "execution_count": 3,
   "id": "47903649",
   "metadata": {},
   "outputs": [],
   "source": [
    "stroke = combined_stroke_data[combined_stroke_data[\"Diagnosis_y\"]==\"Stroke\"]\n",
    "HDLStroke = stroke[\"Cholesterol Levels_y\"].str.split(',').str[0]\n",
    "LDLStroke = stroke[\"Cholesterol Levels_y\"].str.split(',').str[1]\n",
    "cholStroke = pd.DataFrame({\n",
    "    \"HDL\": HDLStroke,\n",
    "    \"LDL\": LDLStroke\n",
    "})\n",
    "noStroke = combined_stroke_data[combined_stroke_data[\"Diagnosis_y\"]==\"No Stroke\"]\n",
    "HDLNoStroke = noStroke[\"Cholesterol Levels_y\"].str.split(',').str[0]\n",
    "LDLNoStroke = noStroke[\"Cholesterol Levels_y\"].str.split(',').str[1]\n",
    "cholNoStroke = pd.DataFrame({\n",
    "    \"HDL\": HDLNoStroke,\n",
    "    \"LDL\": LDLNoStroke\n",
    "})"
   ]
  },
  {
   "cell_type": "code",
   "execution_count": 4,
   "id": "919f178f",
   "metadata": {},
   "outputs": [],
   "source": [
    "HDLNoStrokeNum = cholNoStroke[\"HDL\"].str.split(':').str[1].astype(int)\n",
    "LDLNoStrokeNum = cholNoStroke[\"LDL\"].str.split(':').str[1].astype(int)\n",
    "HDLStrokeNum = cholStroke[\"HDL\"].str.split(':').str[1].astype(int)\n",
    "LDLStrokeNum = cholStroke[\"LDL\"].str.split(':').str[1].astype(int)\n",
    "HDL = pd.DataFrame({\n",
    "    \"HDL No Stroke\": HDLNoStrokeNum,\n",
    "    \"HDL Stroke\": HDLStrokeNum\n",
    "})\n",
    "\n",
    "LDL = pd.DataFrame({\n",
    "    \"LDL No Stroke\": LDLNoStrokeNum,\n",
    "    \"LDL Stroke\": LDLStrokeNum\n",
    "})"
   ]
  },
  {
   "cell_type": "code",
   "execution_count": 9,
   "id": "84e1aff7",
   "metadata": {},
   "outputs": [
    {
     "data": {
      "image/png": "[encoded data removed]",
      "text/plain": [
       "<Figure size 640x480 with 1 Axes>"
      ]
     },
     "metadata": {},
     "output_type": "display_data"
    }
   ],
   "source": [
    "LDLplot = LDL[[\"LDL No Stroke\", \"LDL Stroke\"]].plot(kind = 'box')\n",
    "plt.savefig('LDLPlot.png')\n",
    "plt.show()"
   ]
  },
  {
   "cell_type": "code",
   "execution_count": 10,
   "id": "e839b5c8",
   "metadata": {},
   "outputs": [
    {
     "data": {
      "text/plain": [
       "TtestResult(statistic=0.31349658771412275, pvalue=0.7539077732966357, df=14994.751038008695)"
      ]
     },
     "execution_count": 10,
     "metadata": {},
     "output_type": "execute_result"
    }
   ],
   "source": [
    "stats.ttest_ind(LDLStrokeNum,LDLNoStrokeNum, equal_var = False)"
   ]
  },
  {
   "cell_type": "code",
   "execution_count": 11,
   "id": "aea6c365",
   "metadata": {},
   "outputs": [
    {
     "data": {
      "image/png": "[encoded data removed]",
      "text/plain": [
       "<Figure size 640x480 with 1 Axes>"
      ]
     },
     "metadata": {},
     "output_type": "display_data"
    }
   ],
   "source": [
    "HDLplot = HDL[[\"HDL No Stroke\", \"HDL Stroke\"]].plot(kind = 'box')\n",
    "plt.savefig('HDLPlot.png')\n",
    "plt.show()"
   ]
  },
  {
   "cell_type": "code",
   "execution_count": 12,
   "id": "9f399cd1",
   "metadata": {},
   "outputs": [
    {
     "data": {
      "text/plain": [
       "TtestResult(statistic=-2.632792143811224, pvalue=0.008477296355272185, df=14997.582786336017)"
      ]
     },
     "execution_count": 12,
     "metadata": {},
     "output_type": "execute_result"
    }
   ],
   "source": [
    "stats.ttest_ind(HDLStrokeNum,HDLNoStrokeNum, equal_var = False)"
   ]
  },
  {
   "cell_type": "code",
   "execution_count": null,
   "id": "e62945f5",
   "metadata": {},
   "outputs": [],
   "source": []
  }
 ],
 "metadata": {
  "kernelspec": {
   "display_name": "Python 3 (ipykernel)",
   "language": "python",
   "name": "python3"
  },
  "language_info": {
   "codemirror_mode": {
    "name": "ipython",
    "version": 3
   },
   "file_extension": ".py",
   "mimetype": "text/x-python",
   "name": "python",
   "nbconvert_exporter": "python",
   "pygments_lexer": "ipython3",
   "version": "3.11.5"
  }
 },
 "nbformat": 4,
 "nbformat_minor": 5
}
